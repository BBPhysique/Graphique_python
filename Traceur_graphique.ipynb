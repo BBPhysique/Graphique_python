{
 "cells": [
  {
   "cell_type": "code",
   "execution_count": 1,
   "id": "781edc74-a6e9-4c4a-b0fa-473469f15bef",
   "metadata": {},
   "outputs": [
    {
     "name": "stderr",
     "output_type": "stream",
     "text": [
      "Warning: Ignoring XDG_SESSION_TYPE=wayland on Gnome. Use QT_QPA_PLATFORM=wayland to run on Wayland anyway.\n"
     ]
    }
   ],
   "source": [
    "#!/usr/bin/env python3\n",
    "# -*- coding: utf-8 -*-\n",
    "\"\"\"\n",
    "Created on Wed Sep  4 22:47:24 2024\n",
    "\n",
    "@author: brian\n",
    "\"\"\"\n",
    "\n",
    "#Import des bibliothèques ------------------------------------------------------------------------------------\n",
    "import numpy as np\n",
    "import matplotlib.pyplot as plt\n",
    "\n",
    "from IPython import get_ipython #pour l'affichage des graphes dans une fenêtre hors IDE\n",
    "get_ipython().run_line_magic('matplotlib', 'qt') #affichage des graphes dans une fenêtres hors IDE\n",
    "\n",
    "plt.rcParams['text.usetex'] = True #pour écrire en tex\n",
    "plt.close('all') #on ferme toute fenêtre de graphique précédente\n",
    "\n",
    "\n",
    "\n",
    "fig,ax = plt.subplots(figsize=(13, 8))\n",
    "\n",
    "#Insertion des valeurs  ------------------------------------------------------------------------------------\n",
    "\n",
    "\n",
    "\n",
    "listeX=[1,2,3] #la liste des valeurs en abscisse \n",
    "ux=[0.05,0.05,0.15] #la liste des incertitudes estimées sur les valeurs en abscisse\n",
    "\n",
    "listeY=[1,2,3] #les valeurs en ordonnée\n",
    "uy=[0.15,0.05,0.15] #la liste des incertitudes estimées sur les valeurs en ordonnée\n",
    "\n",
    "\n",
    "\n",
    "ax.errorbar(listeX,listeY,xerr=ux,yerr=uy,marker='+', color = 'green', linestyle= '',label='légende des points') #le tracé des points\n",
    "\n",
    "\n",
    "\n",
    "\n",
    "\n",
    "\n",
    "\n",
    "\n",
    "# Mise en forme du graphique ------------------------------------------------------------------\n",
    "\n",
    "#ax.set_xlim([32730,32800]) #si on veut borner les valeurs des axes x et y\n",
    "#ax.set_ylim([-2,105])\n",
    "\n",
    "\n",
    "ax.legend(loc='best', fontsize=20)\n",
    "\n",
    "\n",
    "#on légende les axes\n",
    "ax.set_xlabel(r\"Grandeur en abscisse (unité)\",fontsize=20, usetex=True) #pour légender l'axe x\n",
    "ax.set_ylabel(r\"Grandeur en ordonnée (unité)\",fontsize=20,usetex=True)\n",
    "ax.tick_params(axis='both', which='major', labelsize=20)#juste pour avoir des légendes en grand\n",
    "ax.tick_params(axis='both', which='minor', labelsize=20)\n",
    "\n",
    "\n",
    "plt.show()\n",
    "\n",
    "\n",
    "# On affiche une grille principale pour aider à la lecture\n",
    "ax.grid(which='major', color='#DDDDDD', linewidth=2)\n",
    "# SEt une grille mineure en traits plus fins et pointillés\n",
    "ax.grid(which='minor', color='#EEEEEE', linestyle=':', linewidth=1)\n",
    "# Avec des labels\n",
    "ax.minorticks_on()\n",
    "ax.set_axisbelow(True) \n",
    "plt.subplots_adjust(top=0.953,\n",
    "bottom=0.188,\n",
    "left=0.187,\n",
    "right=0.965,\n",
    "hspace=0.2,\n",
    "wspace=0.2)\n",
    "#plt.tight_layout()\n",
    "plt.savefig(\"figure_python.png\")\n",
    "\n",
    "\n"
   ]
  },
  {
   "cell_type": "code",
   "execution_count": null,
   "id": "4769a66c-dea7-4e03-a0c6-236787dd4718",
   "metadata": {},
   "outputs": [],
   "source": []
  }
 ],
 "metadata": {
  "kernelspec": {
   "display_name": "Python 3 (ipykernel)",
   "language": "python",
   "name": "python3"
  },
  "language_info": {
   "codemirror_mode": {
    "name": "ipython",
    "version": 3
   },
   "file_extension": ".py",
   "mimetype": "text/x-python",
   "name": "python",
   "nbconvert_exporter": "python",
   "pygments_lexer": "ipython3",
   "version": "3.10.12"
  }
 },
 "nbformat": 4,
 "nbformat_minor": 5
}
